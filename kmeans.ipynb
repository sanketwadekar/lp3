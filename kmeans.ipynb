{
 "cells": [
  {
   "cell_type": "code",
   "execution_count": 6,
   "metadata": {},
   "outputs": [],
   "source": [
    "import numpy as np\n",
    "import matplotlib.pyplot as plt\n",
    "import math"
   ]
  },
  {
   "cell_type": "code",
   "execution_count": 3,
   "metadata": {},
   "outputs": [],
   "source": [
    "x=np.array([0.1,0.15,0.08,0.16,0.2,0.25,0.24,0.3])\n",
    "y=np.array([0.6,0.71,0.9,0.85,0.3,0.5,0.1,0.2])"
   ]
  },
  {
   "cell_type": "code",
   "execution_count": 5,
   "metadata": {},
   "outputs": [
    {
     "data": {
      "text/plain": [
       "<matplotlib.collections.PathCollection at 0x7fb5ae2979d0>"
      ]
     },
     "execution_count": 5,
     "metadata": {},
     "output_type": "execute_result"
    },
    {
     "data": {
      "image/png": "[encoded data removed]",
      "text/plain": [
       "<Figure size 432x288 with 1 Axes>"
      ]
     },
     "metadata": {
      "needs_background": "light"
     },
     "output_type": "display_data"
    }
   ],
   "source": [
    "plt.scatter(x, y)"
   ]
  },
  {
   "cell_type": "code",
   "execution_count": 15,
   "metadata": {},
   "outputs": [],
   "source": [
    "def distance(x1, y1, x2, y2):\n",
    "\treturn math.fabs(x1- x2) + math.fabs(y1-y2)"
   ]
  },
  {
   "cell_type": "code",
   "execution_count": 16,
   "metadata": {},
   "outputs": [],
   "source": [
    "def getCluster(m1 ,m2 , x, y):\n",
    "\treturn 1 if distance(x, y, m1[0], m1[1]) < distance(x, y, m2[0], m2[1]) else 2"
   ]
  },
  {
   "cell_type": "code",
   "execution_count": 21,
   "metadata": {},
   "outputs": [],
   "source": [
    "def kMeans(k=2):\n",
    "\titeration = 1\n",
    "\tdifference = math.inf\n",
    "\tthreshold = 0.02\n",
    "\tm1 = [x[0], y[0]]\n",
    "\tm2 = [x[7], y[7]]\n",
    "\twhile difference > threshold:\n",
    "\t\tprint(\"Iteration \", iteration, \" m1 = \", m1, \" m2 = \", m2)\n",
    "\t\tcluster_1 = []\n",
    "\t\tcluster_2 = []\n",
    "\t\tfor i in range(0, x.size):\n",
    "\t\t\tclusterNumber = getCluster(m1, m2, x[i], y[i])\n",
    "\t\t\tif clusterNumber == 1:\n",
    "\t\t\t\tcluster_1.append([x[i], y[i]])\n",
    "\t\t\telse:\n",
    "\t\t\t\tcluster_2.append([x[i], y[i]])\n",
    "\t\tm1_old = m1\n",
    "\t\tm2_old = m2\n",
    "\t\tm1=np.mean(cluster_1, axis=0)\n",
    "\t\tm2=np.mean(cluster_2, axis=0)\n",
    "\t\txAvg=(math.fabs(m1[0] - m1_old[0]) + math.fabs(m2[0] - m2_old[0]))/2\n",
    "\t\tyAvg=(math.fabs(m1[1] - m1_old[1]) + math.fabs(m2[1] - m2_old[1]))/2\n",
    "\t\tdifference = xAvg if xAvg > yAvg else yAvg\n",
    "\t\tprint(\"Difference = \", difference, '\\n')\n",
    "\t\titeration += 1\n",
    "\treturn [cluster_1, cluster_2, m1, m2]"
   ]
  },
  {
   "cell_type": "code",
   "execution_count": 22,
   "metadata": {},
   "outputs": [
    {
     "name": "stdout",
     "output_type": "stream",
     "text": [
      "Iteration  1  m1 =  [0.1, 0.6]  m2 =  [0.3, 0.2]\n",
      "Difference =  0.05600000000000001 \n",
      "\n",
      "Iteration  2  m1 =  [0.148 0.712]  m2 =  [0.24666667 0.2       ]\n",
      "Difference =  0.06400000000000002 \n",
      "\n",
      "Iteration  3  m1 =  [0.1225 0.765 ]  m2 =  [0.2475 0.275 ]\n",
      "Difference =  0.0 \n",
      "\n"
     ]
    }
   ],
   "source": [
    "cluster_1, cluster_2, m1, m2 = kMeans()"
   ]
  },
  {
   "cell_type": "code",
   "execution_count": 44,
   "metadata": {},
   "outputs": [
    {
     "name": "stdout",
     "output_type": "stream",
     "text": [
      "[[0.1, 0.6], [0.15, 0.71], [0.08, 0.9], [0.16, 0.85]] [[0.2, 0.3], [0.25, 0.5], [0.24, 0.1], [0.3, 0.2]]\n"
     ]
    },
    {
     "data": {
      "text/plain": [
       "<matplotlib.collections.PathCollection at 0x7fb5aedc9750>"
      ]
     },
     "execution_count": 44,
     "metadata": {},
     "output_type": "execute_result"
    },
    {
     "data": {
      "image/png": "[encoded data removed]",
      "text/plain": [
       "<Figure size 432x288 with 1 Axes>"
      ]
     },
     "metadata": {
      "needs_background": "light"
     },
     "output_type": "display_data"
    }
   ],
   "source": [
    "c1 = np.array(cluster_1)\n",
    "c2 = np.array(cluster_2)\n",
    "print(cluster_1, cluster_2)\n",
    "plt.scatter(c1[:,0], c1[:, 1], color='red')\n",
    "plt.scatter(c2[:,0], c2[:, 1], color='blue')\n",
    "plt.scatter(m1[0], m1[1], color='green')\n",
    "plt.scatter(m2[0], m2[1], color='green')"
   ]
  }
 ],
 "metadata": {
  "interpreter": {
   "hash": "f34f72dca5136ccbaab8d930bc1100dbe84c022bbc0f121ba51001a418ab7c83"
  },
  "kernelspec": {
   "display_name": "Python 3.7.11 ('base')",
   "language": "python",
   "name": "python3"
  },
  "language_info": {
   "codemirror_mode": {
    "name": "ipython",
    "version": 3
   },
   "file_extension": ".py",
   "mimetype": "text/x-python",
   "name": "python",
   "nbconvert_exporter": "python",
   "pygments_lexer": "ipython3",
   "version": "3.7.11"
  },
  "orig_nbformat": 4
 },
 "nbformat": 4,
 "nbformat_minor": 2
}
