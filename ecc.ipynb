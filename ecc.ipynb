{
 "cells": [
  {
   "cell_type": "code",
   "execution_count": 1,
   "id": "02bfc782",
   "metadata": {},
   "outputs": [],
   "source": [
    "from random import randint\n",
    "import math"
   ]
  },
  {
   "cell_type": "code",
   "execution_count": 2,
   "id": "df795364",
   "metadata": {},
   "outputs": [],
   "source": [
    "# y2 = x3 + ax + b\n",
    "def point(a,b):\n",
    "    if((4*(a**3) + 27 * (b**2)) != 0): \n",
    "        x = 1\n",
    "        print('Generating')\n",
    "        while True:\n",
    "            rhs = (x**3) + (a*x) + b\n",
    "            y = int(math.sqrt(rhs))\n",
    "            lhs = y*y\n",
    "            if(lhs == rhs):\n",
    "                return [x , y]\n",
    "            else:\n",
    "                x += 1\n",
    "    else:\n",
    "        print('Enter Other Coefficients')"
   ]
  },
  {
   "cell_type": "code",
   "execution_count": 3,
   "id": "7fdcaab4",
   "metadata": {},
   "outputs": [
    {
     "name": "stdout",
     "output_type": "stream",
     "text": [
      "Enter the coefficient a3\n",
      "Enter the coefficient b4\n",
      "Generating\n",
      "Generator:  [5, 12]\n",
      "Public Key A:  [65, 156]\n",
      "Public Key B:  [75, 180]\n",
      "Enter plaintext integer123456\n",
      "Cipher Text:  [68, 124476]\n",
      "Decrypted Text:  123456\n"
     ]
    }
   ],
   "source": [
    "a = int(input('Enter the coefficient a'))\n",
    "b = int(input('Enter the coefficient b'))\n",
    "\n",
    "private_a = 13\n",
    "private_b = 15\n",
    "\n",
    "generator = point(a,b)\n",
    "print('Generator: ' , generator)\n",
    "\n",
    "public_a = [generator[0]*private_a , generator[1]*private_a]\n",
    "public_b = [generator[0]*private_b , generator[1]*private_b]\n",
    "\n",
    "print('Public Key A: ' , public_a)\n",
    "print('Public Key B: ' , public_b)\n",
    "\n",
    "m = int(input('Enter plaintext integer'))\n",
    "k = randint(0,10)\n",
    "\n",
    "kg = k * (generator[0]+generator[1])\n",
    "kpb = m + (k*(public_b[0]) + (k*public_b[1]))\n",
    "\n",
    "cipher_text = [kg , kpb]\n",
    "print('Cipher Text: ' , cipher_text)\n",
    "\n",
    "r = private_b*kg\n",
    "decrypted_text = kpb-r\n",
    "print('Decrypted Text: ' , decrypted_text)"
   ]
  },
  {
   "cell_type": "code",
   "execution_count": 4,
   "id": "74a5f5e6",
   "metadata": {},
   "outputs": [],
   "source": [
    "# For TEXT data"
   ]
  },
  {
   "cell_type": "code",
   "execution_count": 5,
   "id": "9ffd1a46",
   "metadata": {},
   "outputs": [],
   "source": [
    "def encryption(m):\n",
    "    M = ord(m)\n",
    "    kg = k*(generator[0]+generator[1])\n",
    "    kpb = M + ((k*public_b[0]) + (k*public_b[1]))\n",
    "    return kg , kpb"
   ]
  },
  {
   "cell_type": "code",
   "execution_count": 6,
   "id": "962fed48",
   "metadata": {},
   "outputs": [],
   "source": [
    "def decryption(kg , kpb):\n",
    "    r = private_b * kg\n",
    "    plain = kpb - r\n",
    "    return chr(plain)"
   ]
  },
  {
   "cell_type": "code",
   "execution_count": 9,
   "id": "03820083",
   "metadata": {},
   "outputs": [
    {
     "name": "stdout",
     "output_type": "stream",
     "text": [
      "Enter message: luleshwar\n",
      "68\n",
      "1128\n",
      "68\n",
      "1137\n",
      "68\n",
      "1128\n",
      "68\n",
      "1121\n",
      "68\n",
      "1135\n",
      "68\n",
      "1124\n",
      "68\n",
      "1139\n",
      "68\n",
      "1117\n",
      "68\n",
      "1134\n"
     ]
    },
    {
     "data": {
      "text/plain": [
       "1134"
      ]
     },
     "execution_count": 9,
     "metadata": {},
     "output_type": "execute_result"
    }
   ],
   "source": [
    "plain_text = input('Enter message: ')\n",
    "kg_arr , kpb_arr = [] , []\n",
    "for c in plain_text:\n",
    "    kg , kpb = encryption(c)\n",
    "    kg_arr.append(kg)\n",
    "    kpb_arr.append(kpb)\n",
    "kg\n",
    "kpb"
   ]
  },
  {
   "cell_type": "code",
   "execution_count": 10,
   "id": "74a11954",
   "metadata": {},
   "outputs": [
    {
     "data": {
      "text/plain": [
       "'luleshwar'"
      ]
     },
     "execution_count": 10,
     "metadata": {},
     "output_type": "execute_result"
    }
   ],
   "source": [
    "decrypted_text = ''\n",
    "for kg, kpb in zip(kg_arr , kpb_arr):\n",
    "    decrypted_text += decryption(kg , kpb)\n",
    "    \n",
    "decrypted_text"
   ]
  },
  {
   "cell_type": "code",
   "execution_count": null,
   "id": "17a95bc9",
   "metadata": {},
   "outputs": [],
   "source": []
  }
 ],
 "metadata": {
  "interpreter": {
   "hash": "f34f72dca5136ccbaab8d930bc1100dbe84c022bbc0f121ba51001a418ab7c83"
  },
  "kernelspec": {
   "display_name": "Python 3.7.11 ('base')",
   "language": "python",
   "name": "python3"
  },
  "language_info": {
   "codemirror_mode": {
    "name": "ipython",
    "version": 3
   },
   "file_extension": ".py",
   "mimetype": "text/x-python",
   "name": "python",
   "nbconvert_exporter": "python",
   "pygments_lexer": "ipython3",
   "version": "3.7.11"
  }
 },
 "nbformat": 4,
 "nbformat_minor": 5
}
