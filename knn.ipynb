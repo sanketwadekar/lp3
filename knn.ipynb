{
 "cells": [
  {
   "cell_type": "code",
   "execution_count": 3,
   "metadata": {},
   "outputs": [],
   "source": [
    "import numpy as np\n",
    "import math"
   ]
  },
  {
   "cell_type": "code",
   "execution_count": 4,
   "metadata": {},
   "outputs": [],
   "source": [
    "x=np.array([[2,4],[4,2],[4,4],[4,6],[6,2],[6,4]])\n",
    "y=np.array([0,0,1,0,1,0])"
   ]
  },
  {
   "cell_type": "code",
   "execution_count": 5,
   "metadata": {},
   "outputs": [],
   "source": [
    "def euclidean_distance(x1, y1, x2, y2):\n",
    "\treturn math.sqrt((x1 - x2)**2 + (y1-y2)**2)"
   ]
  },
  {
   "cell_type": "code",
   "execution_count": 13,
   "metadata": {},
   "outputs": [],
   "source": [
    "def classifyPoint(x, y, Xi, Yi, k):\n",
    "\tinputSize = x.shape[0]\n",
    "\tdistance = []\n",
    "\n",
    "\tfor i in range(0, inputSize):\n",
    "\t\tdistance.append(euclidean_distance(x[i][0], x[i][1], Xi, Yi))\n",
    "\t\n",
    "\tmergedList = list(zip(distance, y))\n",
    "\tmergedList.sort()\n",
    "\tfreq0 = 0\n",
    "\tfreq1 = 0\n",
    "\tfor i in range(k):\n",
    "\t\tif(mergedList[i][1] == 1):\n",
    "\t\t\tfreq1 += 1\n",
    "\t\telse:\n",
    "\t\t\tfreq0 += 1\n",
    "\tif freq0 > freq1:\n",
    "\t\treturn 0\n",
    "\telse:\n",
    "\t\treturn 1"
   ]
  },
  {
   "cell_type": "code",
   "execution_count": 14,
   "metadata": {},
   "outputs": [
    {
     "name": "stdout",
     "output_type": "stream",
     "text": [
      "0\n"
     ]
    }
   ],
   "source": [
    "k = int(input(\"k = \"))\n",
    "xi = int(input(\"X = \"))\n",
    "yi = int(input(\"Y = \"))\n",
    "\n",
    "print(classifyPoint(x, y, xi, yi, k))"
   ]
  }
 ],
 "metadata": {
  "interpreter": {
   "hash": "f34f72dca5136ccbaab8d930bc1100dbe84c022bbc0f121ba51001a418ab7c83"
  },
  "kernelspec": {
   "display_name": "Python 3.7.11 ('base')",
   "language": "python",
   "name": "python3"
  },
  "language_info": {
   "codemirror_mode": {
    "name": "ipython",
    "version": 3
   },
   "file_extension": ".py",
   "mimetype": "text/x-python",
   "name": "python",
   "nbconvert_exporter": "python",
   "pygments_lexer": "ipython3",
   "version": "3.7.11"
  },
  "orig_nbformat": 4
 },
 "nbformat": 4,
 "nbformat_minor": 2
}
