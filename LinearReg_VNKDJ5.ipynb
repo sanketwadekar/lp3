{
 "cells": [
  {
   "cell_type": "markdown",
   "metadata": {},
   "source": [
    "The following table shows the results of a recently conducted study on the correlation of the\n",
    "number of hours spent driving with the risk of developing acute backache. Find the equation of\n",
    "the best fit line for this data.\n",
    "(Driving hrs)x = [10,9,2,15,10,16,11,16]\n",
    "(Risk of backache) y=[95,80,10,50,45,98,38,93]"
   ]
  },
  {
   "cell_type": "code",
   "execution_count": 1,
   "metadata": {},
   "outputs": [],
   "source": [
    "import numpy as np\n",
    "import matplotlib.pyplot as plt\n",
    "import pandas as pd"
   ]
  },
  {
   "cell_type": "code",
   "execution_count": 2,
   "metadata": {},
   "outputs": [
    {
     "data": {
      "text/plain": [
       "<matplotlib.collections.PathCollection at 0x7fb3d9477750>"
      ]
     },
     "execution_count": 2,
     "metadata": {},
     "output_type": "execute_result"
    },
    {
     "data": {
      "image/png": "[encoded data removed]",
      "text/plain": [
       "<Figure size 432x288 with 1 Axes>"
      ]
     },
     "metadata": {
      "needs_background": "light"
     },
     "output_type": "display_data"
    }
   ],
   "source": [
    "#input data\n",
    "x = np.array([10,9,2,15,10,16,11,16])\n",
    "y=np.array([95,80,10,50,45,98,38,93])\n",
    "plt.scatter(x,y)"
   ]
  },
  {
   "cell_type": "code",
   "execution_count": 3,
   "metadata": {},
   "outputs": [],
   "source": [
    "def estimate_coefficient(x,y):\n",
    "    #Number of oberservations\n",
    "    N =np.size(x)\n",
    "    \n",
    "    #calculate mean of x and y\n",
    "    x_mean,y_mean=np.mean(x),np.mean(y);\n",
    "    \n",
    "    # calculating cross-deviation and deviation about x \n",
    "    ss_xy=np.sum(y*x)-N*x_mean*y_mean;\n",
    "    ss_xx=np.sum(x*x)-N*x_mean*x_mean;\n",
    "    \n",
    "    #calculating regression coefficients\n",
    "    b1=ss_xy/ss_xx;\n",
    "    b0=y_mean-b1*x_mean;\n",
    "    \n",
    "    return (b0,b1);\n",
    "    "
   ]
  },
  {
   "cell_type": "code",
   "execution_count": 4,
   "metadata": {},
   "outputs": [],
   "source": [
    "def plot_regression_line(x,y,b):\n",
    "    #plotting actual points as scatter points\n",
    "    plt.scatter(x,y, color=\"m\", marker=\"o\",s=30)\n",
    "    \n",
    "    #predicted response vector\n",
    "    y_pred=b[0]+b[1]*x;\n",
    "    \n",
    "    plt.plot(x,y_pred, color=\"g\");\n",
    "    \n",
    "    #putting labels\n",
    "    plt.xlabel(\"X\")\n",
    "    plt.ylabel(\"Y\")\n",
    "    \n",
    "    #function to show plot \n",
    "    plt.show() "
   ]
  },
  {
   "cell_type": "code",
   "execution_count": 5,
   "metadata": {},
   "outputs": [
    {
     "name": "stdout",
     "output_type": "stream",
     "text": [
      "Estimated coefficients:\n",
      " b0 = 12.584627964022893 \n",
      " b1 = 4.58789860997547\n"
     ]
    }
   ],
   "source": [
    "b=estimate_coefficient(x,y)\n",
    "print(\"Estimated coefficients:\\n b0 = {} \\n b1 = {}\".format(b[0],b[1]))"
   ]
  },
  {
   "cell_type": "code",
   "execution_count": 6,
   "metadata": {},
   "outputs": [
    {
     "data": {
      "image/png": "[encoded data removed]",
      "text/plain": [
       "<Figure size 432x288 with 1 Axes>"
      ]
     },
     "metadata": {
      "needs_background": "light"
     },
     "output_type": "display_data"
    }
   ],
   "source": [
    "# plotting regression line \n",
    "plot_regression_line(x,y,b)"
   ]
  },
  {
   "cell_type": "code",
   "execution_count": 7,
   "metadata": {},
   "outputs": [],
   "source": [
    "#END OF PROGRAM\n",
    "#Below code for checking sklearns model\n",
    "from sklearn.linear_model import LinearRegression\n"
   ]
  },
  {
   "cell_type": "code",
   "execution_count": 8,
   "metadata": {},
   "outputs": [
    {
     "data": {
      "text/plain": [
       "array([[ 4.5314367 , -7.99445235],\n",
       "       [ 5.03755334,  1.83015647]])"
      ]
     },
     "execution_count": 8,
     "metadata": {},
     "output_type": "execute_result"
    }
   ],
   "source": [
    "model=LinearRegression().fit(np.reshape(x,(-1,2)),np.reshape(y,(-1,2)))\n",
    "model.coef_\n",
    "\n"
   ]
  },
  {
   "cell_type": "code",
   "execution_count": 9,
   "metadata": {},
   "outputs": [
    {
     "data": {
      "text/plain": [
       "array([121.53798009,  13.06799431])"
      ]
     },
     "execution_count": 9,
     "metadata": {},
     "output_type": "execute_result"
    }
   ],
   "source": [
    "model.intercept_"
   ]
  },
  {
   "cell_type": "code",
   "execution_count": 10,
   "metadata": {},
   "outputs": [
    {
     "data": {
      "text/plain": [
       "0.9728057213483525"
      ]
     },
     "execution_count": 10,
     "metadata": {},
     "output_type": "execute_result"
    }
   ],
   "source": [
    "model.score(np.reshape(x,(-1,2)),np.reshape(y,(-1,2)))"
   ]
  }
 ],
 "metadata": {
  "kernelspec": {
   "display_name": "Python 3",
   "language": "python",
   "name": "python3"
  },
  "language_info": {
   "codemirror_mode": {
    "name": "ipython",
    "version": 3
   },
   "file_extension": ".py",
   "mimetype": "text/x-python",
   "name": "python",
   "nbconvert_exporter": "python",
   "pygments_lexer": "ipython3",
   "version": "3.7.11"
  }
 },
 "nbformat": 4,
 "nbformat_minor": 2
}
